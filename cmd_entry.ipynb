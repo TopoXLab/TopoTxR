{
 "cells": [
  {
   "cell_type": "code",
   "execution_count": null,
   "metadata": {},
   "outputs": [],
   "source": [
    "# =============================================\n",
    "# Command line instructions\n",
    "# python cmd_entry.py [branch_name] [GPU_idx] [fold_idx]\n",
    "# example: jupyter nbconvert --ExecutePreprocessor.timeout=-1 --execute {:s} --to html'.format(IPYNB_FILENAME)\n",
    "# =============================================\n",
    "\n",
    "%run Archpool.ipynb\n",
    "%run Argparser.ipynb\n",
    "%run FileIO.ipynb\n",
    "%run CNN.ipynb\n",
    "\n",
    "%run Cyclekernel.ipynb\n",
    "%run Medical_IO.ipynb\n",
    "%run Medical_Utility.ipynb\n",
    "\n",
    "import sys,os,argparse\n",
    "from IPython.display import HTML\n",
    "\n",
    "CONFIG_FILE = '.config_ipynb'\n",
    "if os.path.isfile(CONFIG_FILE):\n",
    "    with open(CONFIG_FILE) as f:\n",
    "        sys.argv = f.read().split()\n",
    "else:\n",
    "    print(\"Invalid input\")\n",
    "\n",
    "parser_ = argparse.ArgumentParser()\n",
    "parser_.add_argument(\"branch_name\",help=\"Branch name.\")\n",
    "parser_.add_argument(\"--gpuid\", type=int, default=0, help=\"Intended ID of GPU\")\n",
    "parser_.add_argument(\"--foldid\", type=int, default=0, help=\"N fold cross validation.\")\n",
    "args_ = parser_.parse_args()\n",
    "branch_name = args_.branch_name\n",
    "gpu_id = args_.gpuid\n",
    "fold_id = args_.foldid\n",
    "\n",
    "os.environ['CUDA_VISIBLE_DEVICES'] = str(gpu_id)\n",
    "settings    = return_settings()\n",
    "settings[\"Basic\"][\"branch_name\"] = branch_name\n",
    "parser      = Argparser(settings)\n",
    "general     = return_general(0)\n",
    "arch1       = return_arch(15)\n",
    "arch2       = return_arch(16)\n",
    "data_params = return_data_settings(0)\n",
    "data_params[\"fold_idx\"] = fold_id\n",
    "\n",
    "cnn = CNN(general, [arch1, arch2])\n",
    "cnn.train(data_params, branch_name)"
   ]
  }
 ],
 "metadata": {
  "kernelspec": {
   "display_name": "Python 3",
   "language": "python",
   "name": "python3"
  },
  "language_info": {
   "codemirror_mode": {
    "name": "ipython",
    "version": 3
   },
   "file_extension": ".py",
   "mimetype": "text/x-python",
   "name": "python",
   "nbconvert_exporter": "python",
   "pygments_lexer": "ipython3",
   "version": "3.7.2"
  }
 },
 "nbformat": 4,
 "nbformat_minor": 2
}
