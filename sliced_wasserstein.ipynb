{
 "cells": [
  {
   "cell_type": "code",
   "execution_count": null,
   "metadata": {},
   "outputs": [],
   "source": [
    "import numpy as np\n",
    "import sliced_wasserstein \n",
    "\n",
    "class sliced_wasserstein_python(object):\n",
    "    \n",
    "    def __init__(self):\n",
    "        self.sw = sliced_wasserstein.sliced_wasserstein()\n",
    "        \n",
    "    def convert_pd_2_cpp(self, data, threshold):\n",
    "        '''\n",
    "        @data: [[struct_num x 2] x dimensions] x file_num\n",
    "        '''\n",
    "        file_num = len(data)\n",
    "        dims = len(data[0])\n",
    "        cpp_pd = [None] * file_num\n",
    "        \n",
    "        for i in range(file_num):\n",
    "            file_pd = [None] * dims\n",
    "            for dim in range(dims):\n",
    "                persistence = (data[i][dim][:,1] - data[i][dim][:,0]) >= threshold\n",
    "                dim_pd = sliced_wasserstein.PD(int(np.sum(persistence)))\n",
    "                cnt = 0\n",
    "                for j in range(data[i][dim].shape[0]):\n",
    "                    if persistence[j]:\n",
    "                        dim_pd[cnt].first  = data[i][dim][j,0]\n",
    "                        dim_pd[cnt].second = data[i][dim][j,1]\n",
    "                        cnt = cnt + 1\n",
    "                file_pd[dim] = dim_pd\n",
    "            cpp_pd[i] = file_pd\n",
    "        return cpp_pd\n",
    "\n",
    "    def compute_sw(self, data, threshold, mode):\n",
    "        '''\n",
    "        @data: [[struct_num x 2] x dimensions] x file_num\n",
    "        @mode: \"exact\" or \"approximate\"\n",
    "        '''\n",
    "        file_num = len(data)\n",
    "        dims = len(data[0])\n",
    "        sw_dist = [np.zeros((file_num, file_num), dtype=np.float64)] * dims\n",
    "        pers_cpp = self.convert_pd_2_cpp(data, threshold)\n",
    "\n",
    "        for i in range(dims):\n",
    "            for j in range(file_num-1):\n",
    "                for k in range(j+1, file_num):\n",
    "                    if mode == \"exact\":\n",
    "                        sw_dist[i][j,k] = self.sw.compute_exact_SW(pers_cpp[j][i], pers_cpp[k][i])\n",
    "                        sw_dist[i][k,j] = sw_dist[i][j,k]\n",
    "                    else:\n",
    "                        sw_dist[i][j,k] = self.sw.compute_approximate_SW(pers_cpp[j][i], pers_cpp[k][i])\n",
    "                        sw_dist[i][k,j] = sw_dist[i][j,k]\n",
    "                print(\"Dim \", i, \" \", j/file_num)\n",
    "            print(\"Dim \", i, \" completes\")\n",
    "        return sw_dist"
   ]
  }
 ],
 "metadata": {
  "kernelspec": {
   "display_name": "Python 3",
   "language": "python",
   "name": "python3"
  },
  "language_info": {
   "codemirror_mode": {
    "name": "ipython",
    "version": 3
   },
   "file_extension": ".py",
   "mimetype": "text/x-python",
   "name": "python",
   "nbconvert_exporter": "python",
   "pygments_lexer": "ipython3",
   "version": "3.7.2"
  }
 },
 "nbformat": 4,
 "nbformat_minor": 2
}
